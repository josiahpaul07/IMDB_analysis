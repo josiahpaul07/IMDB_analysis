{
 "cells": [
  {
   "cell_type": "markdown",
   "id": "3a0f4a3a",
   "metadata": {},
   "source": [
    "# Data Analysis Project: IMDB MOVIES"
   ]
  },
  {
   "cell_type": "markdown",
   "id": "0b1eca2e",
   "metadata": {},
   "source": [
    "### Import Packages"
   ]
  },
  {
   "cell_type": "code",
   "execution_count": 1,
   "id": "f6e7e1d2",
   "metadata": {},
   "outputs": [],
   "source": [
    "import pandas as pd\n",
    "import numpy as np\n",
    "\n",
    "import seaborn as sns\n",
    "\n",
    "import matplotlib.pyplot as plt\n",
    "import matplotlib.mlab as mlab\n",
    "import matplotlib\n",
    "plt.style.use('ggplot')\n",
    "from matplotlib.pyplot import figure\n",
    "\n",
    "%matplotlib inline"
   ]
  },
  {
   "cell_type": "markdown",
   "id": "c8b7978a",
   "metadata": {},
   "source": [
    "### Load dataset"
   ]
  },
  {
   "cell_type": "code",
   "execution_count": 2,
   "id": "784ace8e",
   "metadata": {},
   "outputs": [],
   "source": [
    "df = pd.read_csv('C:/Users/dell/Downloads/data(1).csv')"
   ]
  },
  {
   "cell_type": "markdown",
   "id": "1a093fec",
   "metadata": {},
   "source": [
    "### An overview of the data\n"
   ]
  },
  {
   "cell_type": "code",
   "execution_count": 3,
   "id": "6234f9d2",
   "metadata": {},
   "outputs": [
    {
     "data": {
      "text/html": [
       "<div>\n",
       "<style scoped>\n",
       "    .dataframe tbody tr th:only-of-type {\n",
       "        vertical-align: middle;\n",
       "    }\n",
       "\n",
       "    .dataframe tbody tr th {\n",
       "        vertical-align: top;\n",
       "    }\n",
       "\n",
       "    .dataframe thead th {\n",
       "        text-align: right;\n",
       "    }\n",
       "</style>\n",
       "<table border=\"1\" class=\"dataframe\">\n",
       "  <thead>\n",
       "    <tr style=\"text-align: right;\">\n",
       "      <th></th>\n",
       "      <th>name</th>\n",
       "      <th>rating</th>\n",
       "      <th>genre</th>\n",
       "      <th>released</th>\n",
       "      <th>score</th>\n",
       "      <th>votes</th>\n",
       "      <th>director</th>\n",
       "      <th>writer</th>\n",
       "      <th>star</th>\n",
       "      <th>country</th>\n",
       "      <th>budget</th>\n",
       "      <th>gross</th>\n",
       "      <th>company</th>\n",
       "      <th>runtime</th>\n",
       "      <th>Years</th>\n",
       "    </tr>\n",
       "  </thead>\n",
       "  <tbody>\n",
       "    <tr>\n",
       "      <th>0</th>\n",
       "      <td>The Shining</td>\n",
       "      <td>R</td>\n",
       "      <td>Drama</td>\n",
       "      <td>June 13, 1980 (United States)</td>\n",
       "      <td>8.4</td>\n",
       "      <td>927000.0</td>\n",
       "      <td>Stanley Kubrick</td>\n",
       "      <td>Stephen King</td>\n",
       "      <td>Jack Nicholson</td>\n",
       "      <td>United Kingdom</td>\n",
       "      <td>19000000.0</td>\n",
       "      <td>46998772.0</td>\n",
       "      <td>Warner Bros.</td>\n",
       "      <td>146.0</td>\n",
       "      <td>1980</td>\n",
       "    </tr>\n",
       "    <tr>\n",
       "      <th>1</th>\n",
       "      <td>The Blue Lagoon</td>\n",
       "      <td>R</td>\n",
       "      <td>Adventure</td>\n",
       "      <td>July 2, 1980 (United States)</td>\n",
       "      <td>5.8</td>\n",
       "      <td>65000.0</td>\n",
       "      <td>Randal Kleiser</td>\n",
       "      <td>Henry De Vere Stacpoole</td>\n",
       "      <td>Brooke Shields</td>\n",
       "      <td>United States</td>\n",
       "      <td>4500000.0</td>\n",
       "      <td>58853106.0</td>\n",
       "      <td>Columbia Pictures</td>\n",
       "      <td>104.0</td>\n",
       "      <td>1980</td>\n",
       "    </tr>\n",
       "    <tr>\n",
       "      <th>2</th>\n",
       "      <td>Star Wars: Episode V - The Empire Strikes Back</td>\n",
       "      <td>PG</td>\n",
       "      <td>Action</td>\n",
       "      <td>June 20, 1980 (United States)</td>\n",
       "      <td>8.7</td>\n",
       "      <td>1200000.0</td>\n",
       "      <td>Irvin Kershner</td>\n",
       "      <td>Leigh Brackett</td>\n",
       "      <td>Mark Hamill</td>\n",
       "      <td>United States</td>\n",
       "      <td>18000000.0</td>\n",
       "      <td>538375067.0</td>\n",
       "      <td>Lucasfilm</td>\n",
       "      <td>124.0</td>\n",
       "      <td>1980</td>\n",
       "    </tr>\n",
       "    <tr>\n",
       "      <th>3</th>\n",
       "      <td>Airplane!</td>\n",
       "      <td>PG</td>\n",
       "      <td>Comedy</td>\n",
       "      <td>July 2, 1980 (United States)</td>\n",
       "      <td>7.7</td>\n",
       "      <td>221000.0</td>\n",
       "      <td>Jim Abrahams</td>\n",
       "      <td>Jim Abrahams</td>\n",
       "      <td>Robert Hays</td>\n",
       "      <td>United States</td>\n",
       "      <td>3500000.0</td>\n",
       "      <td>83453539.0</td>\n",
       "      <td>Paramount Pictures</td>\n",
       "      <td>88.0</td>\n",
       "      <td>1980</td>\n",
       "    </tr>\n",
       "    <tr>\n",
       "      <th>4</th>\n",
       "      <td>Caddyshack</td>\n",
       "      <td>R</td>\n",
       "      <td>Comedy</td>\n",
       "      <td>July 25, 1980 (United States)</td>\n",
       "      <td>7.3</td>\n",
       "      <td>108000.0</td>\n",
       "      <td>Harold Ramis</td>\n",
       "      <td>Brian Doyle-Murray</td>\n",
       "      <td>Chevy Chase</td>\n",
       "      <td>United States</td>\n",
       "      <td>6000000.0</td>\n",
       "      <td>39846344.0</td>\n",
       "      <td>Orion Pictures</td>\n",
       "      <td>98.0</td>\n",
       "      <td>1980</td>\n",
       "    </tr>\n",
       "    <tr>\n",
       "      <th>5</th>\n",
       "      <td>Friday the 13th</td>\n",
       "      <td>R</td>\n",
       "      <td>Horror</td>\n",
       "      <td>May 9, 1980 (United States)</td>\n",
       "      <td>6.4</td>\n",
       "      <td>123000.0</td>\n",
       "      <td>Sean S. Cunningham</td>\n",
       "      <td>Victor Miller</td>\n",
       "      <td>Betsy Palmer</td>\n",
       "      <td>United States</td>\n",
       "      <td>550000.0</td>\n",
       "      <td>39754601.0</td>\n",
       "      <td>Paramount Pictures</td>\n",
       "      <td>95.0</td>\n",
       "      <td>1980</td>\n",
       "    </tr>\n",
       "    <tr>\n",
       "      <th>6</th>\n",
       "      <td>The Blues Brothers</td>\n",
       "      <td>R</td>\n",
       "      <td>Action</td>\n",
       "      <td>June 20, 1980 (United States)</td>\n",
       "      <td>7.9</td>\n",
       "      <td>188000.0</td>\n",
       "      <td>John Landis</td>\n",
       "      <td>Dan Aykroyd</td>\n",
       "      <td>John Belushi</td>\n",
       "      <td>United States</td>\n",
       "      <td>27000000.0</td>\n",
       "      <td>115229890.0</td>\n",
       "      <td>Universal Pictures</td>\n",
       "      <td>133.0</td>\n",
       "      <td>1980</td>\n",
       "    </tr>\n",
       "    <tr>\n",
       "      <th>7</th>\n",
       "      <td>Raging Bull</td>\n",
       "      <td>R</td>\n",
       "      <td>Biography</td>\n",
       "      <td>December 19, 1980 (United States)</td>\n",
       "      <td>8.2</td>\n",
       "      <td>330000.0</td>\n",
       "      <td>Martin Scorsese</td>\n",
       "      <td>Jake LaMotta</td>\n",
       "      <td>Robert De Niro</td>\n",
       "      <td>United States</td>\n",
       "      <td>18000000.0</td>\n",
       "      <td>23402427.0</td>\n",
       "      <td>Chartoff-Winkler Productions</td>\n",
       "      <td>129.0</td>\n",
       "      <td>1980</td>\n",
       "    </tr>\n",
       "    <tr>\n",
       "      <th>8</th>\n",
       "      <td>Superman II</td>\n",
       "      <td>PG</td>\n",
       "      <td>Action</td>\n",
       "      <td>June 19, 1981 (United States)</td>\n",
       "      <td>6.8</td>\n",
       "      <td>101000.0</td>\n",
       "      <td>Richard Lester</td>\n",
       "      <td>Jerry Siegel</td>\n",
       "      <td>Gene Hackman</td>\n",
       "      <td>United States</td>\n",
       "      <td>54000000.0</td>\n",
       "      <td>108185706.0</td>\n",
       "      <td>Dovemead Films</td>\n",
       "      <td>127.0</td>\n",
       "      <td>1981</td>\n",
       "    </tr>\n",
       "    <tr>\n",
       "      <th>9</th>\n",
       "      <td>The Long Riders</td>\n",
       "      <td>R</td>\n",
       "      <td>Biography</td>\n",
       "      <td>May 16, 1980 (United States)</td>\n",
       "      <td>7.0</td>\n",
       "      <td>10000.0</td>\n",
       "      <td>Walter Hill</td>\n",
       "      <td>Bill Bryden</td>\n",
       "      <td>David Carradine</td>\n",
       "      <td>United States</td>\n",
       "      <td>10000000.0</td>\n",
       "      <td>15795189.0</td>\n",
       "      <td>United Artists</td>\n",
       "      <td>100.0</td>\n",
       "      <td>1980</td>\n",
       "    </tr>\n",
       "  </tbody>\n",
       "</table>\n",
       "</div>"
      ],
      "text/plain": [
       "                                             name rating      genre  \\\n",
       "0                                     The Shining      R      Drama   \n",
       "1                                 The Blue Lagoon      R  Adventure   \n",
       "2  Star Wars: Episode V - The Empire Strikes Back     PG     Action   \n",
       "3                                       Airplane!     PG     Comedy   \n",
       "4                                      Caddyshack      R     Comedy   \n",
       "5                                 Friday the 13th      R     Horror   \n",
       "6                              The Blues Brothers      R     Action   \n",
       "7                                     Raging Bull      R  Biography   \n",
       "8                                     Superman II     PG     Action   \n",
       "9                                 The Long Riders      R  Biography   \n",
       "\n",
       "                            released  score      votes            director  \\\n",
       "0      June 13, 1980 (United States)    8.4   927000.0     Stanley Kubrick   \n",
       "1       July 2, 1980 (United States)    5.8    65000.0      Randal Kleiser   \n",
       "2      June 20, 1980 (United States)    8.7  1200000.0      Irvin Kershner   \n",
       "3       July 2, 1980 (United States)    7.7   221000.0        Jim Abrahams   \n",
       "4      July 25, 1980 (United States)    7.3   108000.0        Harold Ramis   \n",
       "5        May 9, 1980 (United States)    6.4   123000.0  Sean S. Cunningham   \n",
       "6      June 20, 1980 (United States)    7.9   188000.0         John Landis   \n",
       "7  December 19, 1980 (United States)    8.2   330000.0     Martin Scorsese   \n",
       "8      June 19, 1981 (United States)    6.8   101000.0      Richard Lester   \n",
       "9       May 16, 1980 (United States)    7.0    10000.0         Walter Hill   \n",
       "\n",
       "                    writer             star         country      budget  \\\n",
       "0             Stephen King   Jack Nicholson  United Kingdom  19000000.0   \n",
       "1  Henry De Vere Stacpoole   Brooke Shields   United States   4500000.0   \n",
       "2           Leigh Brackett      Mark Hamill   United States  18000000.0   \n",
       "3             Jim Abrahams      Robert Hays   United States   3500000.0   \n",
       "4       Brian Doyle-Murray      Chevy Chase   United States   6000000.0   \n",
       "5            Victor Miller     Betsy Palmer   United States    550000.0   \n",
       "6              Dan Aykroyd     John Belushi   United States  27000000.0   \n",
       "7             Jake LaMotta   Robert De Niro   United States  18000000.0   \n",
       "8             Jerry Siegel     Gene Hackman   United States  54000000.0   \n",
       "9              Bill Bryden  David Carradine   United States  10000000.0   \n",
       "\n",
       "         gross                       company  runtime  Years  \n",
       "0   46998772.0                  Warner Bros.    146.0   1980  \n",
       "1   58853106.0             Columbia Pictures    104.0   1980  \n",
       "2  538375067.0                     Lucasfilm    124.0   1980  \n",
       "3   83453539.0            Paramount Pictures     88.0   1980  \n",
       "4   39846344.0                Orion Pictures     98.0   1980  \n",
       "5   39754601.0            Paramount Pictures     95.0   1980  \n",
       "6  115229890.0            Universal Pictures    133.0   1980  \n",
       "7   23402427.0  Chartoff-Winkler Productions    129.0   1980  \n",
       "8  108185706.0                Dovemead Films    127.0   1981  \n",
       "9   15795189.0                United Artists    100.0   1980  "
      ]
     },
     "execution_count": 3,
     "metadata": {},
     "output_type": "execute_result"
    }
   ],
   "source": [
    "df.head(10)"
   ]
  },
  {
   "cell_type": "markdown",
   "id": "d08b3e84",
   "metadata": {},
   "source": [
    "### Checking for missing values"
   ]
  },
  {
   "cell_type": "code",
   "execution_count": 4,
   "id": "1d3dfcf8",
   "metadata": {},
   "outputs": [
    {
     "name": "stdout",
     "output_type": "stream",
     "text": [
      "name - 0 - %0.0\n",
      "rating - 0 - %0.0\n",
      "genre - 0 - %0.0\n",
      "released - 0 - %0.0\n",
      "score - 0 - %0.0\n",
      "votes - 0 - %0.0\n",
      "director - 0 - %0.0\n",
      "writer - 0 - %0.0\n",
      "star - 0 - %0.0\n",
      "country - 0 - %0.0\n",
      "budget - 1991 - %26.862\n",
      "gross - 0 - %0.0\n",
      "company - 0 - %0.0\n",
      "runtime - 0 - %0.0\n",
      "Years - 0 - %0.0\n"
     ]
    }
   ],
   "source": [
    "for col in df.columns:\n",
    "    number_null = df.loc[:, col].isnull().sum()\n",
    "    perc_null = (number_null / df.shape[0]) * 100\n",
    "    print('{} - {} - %{}'.format(col, number_null, round(perc_null,3)))"
   ]
  },
  {
   "cell_type": "code",
   "execution_count": null,
   "id": "f2846ed2",
   "metadata": {},
   "outputs": [],
   "source": []
  },
  {
   "cell_type": "code",
   "execution_count": 5,
   "id": "1db81b7b",
   "metadata": {},
   "outputs": [
    {
     "name": "stdout",
     "output_type": "stream",
     "text": [
      "Skewness : 2.443\n",
      "Mean is bigger than Median. Left skewed. Median for computing\n"
     ]
    }
   ],
   "source": [
    "#find distribution shape\n",
    "print('Skewness :', round(df['budget'].skew(),3))\n",
    "\n",
    "mean_budget = df['budget'].mean()\n",
    "median_budget = df['budget'].median()\n",
    "\n",
    "if mean_budget > median_budget:\n",
    "    print('Mean is bigger than Median. Left skewed. Median for computing')\n",
    "else:\n",
    "    print('Mean is smaller than Median. Right skewed. Mean for imputing')"
   ]
  },
  {
   "cell_type": "markdown",
   "id": "802924c1",
   "metadata": {},
   "source": [
    "#### Filling the null value with median"
   ]
  },
  {
   "cell_type": "code",
   "execution_count": 6,
   "id": "793c6fb9",
   "metadata": {},
   "outputs": [],
   "source": [
    "#impute with median\n",
    "df['budget'] = df['budget'].fillna(median_budget).round(0)"
   ]
  },
  {
   "cell_type": "markdown",
   "id": "b959a857",
   "metadata": {},
   "source": [
    "#### Checking for null values again"
   ]
  },
  {
   "cell_type": "code",
   "execution_count": 7,
   "id": "61be0042",
   "metadata": {},
   "outputs": [
    {
     "name": "stdout",
     "output_type": "stream",
     "text": [
      "name - 0 - %0.0\n",
      "rating - 0 - %0.0\n",
      "genre - 0 - %0.0\n",
      "released - 0 - %0.0\n",
      "score - 0 - %0.0\n",
      "votes - 0 - %0.0\n",
      "director - 0 - %0.0\n",
      "writer - 0 - %0.0\n",
      "star - 0 - %0.0\n",
      "country - 0 - %0.0\n",
      "budget - 0 - %0.0\n",
      "gross - 0 - %0.0\n",
      "company - 0 - %0.0\n",
      "runtime - 0 - %0.0\n",
      "Years - 0 - %0.0\n"
     ]
    }
   ],
   "source": [
    "for col in df.columns:\n",
    "    number_null = df.loc[:, col].isnull().sum()\n",
    "    perc_null = (number_null / df.shape[0]) * 100\n",
    "    print('{} - {} - %{}'.format(col, number_null, round(perc_null,3)))"
   ]
  },
  {
   "cell_type": "markdown",
   "id": "22fc094a",
   "metadata": {},
   "source": [
    "#### Checking for duplicate rows\n"
   ]
  },
  {
   "cell_type": "code",
   "execution_count": 8,
   "id": "dcac73f1",
   "metadata": {},
   "outputs": [
    {
     "data": {
      "text/plain": [
       "False"
      ]
     },
     "execution_count": 8,
     "metadata": {},
     "output_type": "execute_result"
    }
   ],
   "source": [
    "def has_duplicate_rows(data):\n",
    "    df = pd.DataFrame(data)\n",
    "    duplicate_rows = df.duplicated()\n",
    "    return any(duplicate_rows)\n",
    "\n",
    "has_duplicate_rows(df)"
   ]
  },
  {
   "cell_type": "code",
   "execution_count": 9,
   "id": "9af0fbbb",
   "metadata": {},
   "outputs": [
    {
     "data": {
      "text/plain": [
       "R            3608\n",
       "PG-13        2089\n",
       "PG           1220\n",
       "Not Rated     258\n",
       "G             152\n",
       "Name: rating, dtype: int64"
      ]
     },
     "execution_count": 9,
     "metadata": {},
     "output_type": "execute_result"
    }
   ],
   "source": [
    "df.rating.value_counts(dropna=False).head(5)\n",
    "#round((df['rating'].value_counts()/df['rating'].count())*100, 0)\n"
   ]
  },
  {
   "cell_type": "code",
   "execution_count": 10,
   "id": "34e4c05a",
   "metadata": {},
   "outputs": [
    {
     "data": {
      "text/plain": [
       "<Axes: >"
      ]
     },
     "execution_count": 10,
     "metadata": {},
     "output_type": "execute_result"
    },
    {
     "data": {
      "image/png": "[encoded data removed]",
      "text/plain": [
       "<Figure size 640x480 with 1 Axes>"
      ]
     },
     "metadata": {},
     "output_type": "display_data"
    }
   ],
   "source": [
    "df.rating.value_counts(dropna=False).head(5).plot(kind=\"barh\", fontsize=10)"
   ]
  },
  {
   "cell_type": "code",
   "execution_count": 11,
   "id": "b8b6cc78",
   "metadata": {},
   "outputs": [
    {
     "data": {
      "text/plain": [
       "Comedy       2182\n",
       "Action       1666\n",
       "Drama        1439\n",
       "Crime         536\n",
       "Biography     429\n",
       "Name: genre, dtype: int64"
      ]
     },
     "execution_count": 11,
     "metadata": {},
     "output_type": "execute_result"
    }
   ],
   "source": [
    "df.genre.value_counts(dropna=False).head(5)"
   ]
  },
  {
   "cell_type": "code",
   "execution_count": 12,
   "id": "d87cc107",
   "metadata": {},
   "outputs": [
    {
     "data": {
      "text/plain": [
       "<Axes: >"
      ]
     },
     "execution_count": 12,
     "metadata": {},
     "output_type": "execute_result"
    },
    {
     "data": {
      "image/png": "[encoded data removed]",
      "text/plain": [
       "<Figure size 640x480 with 1 Axes>"
      ]
     },
     "metadata": {},
     "output_type": "display_data"
    }
   ],
   "source": [
    "df.genre.value_counts(dropna=False).head(5).plot(kind=\"barh\", fontsize=10)"
   ]
  },
  {
   "cell_type": "code",
   "execution_count": 13,
   "id": "73a6f4c4",
   "metadata": {},
   "outputs": [
    {
     "data": {
      "text/plain": [
       "United States     5358\n",
       "United Kingdom     790\n",
       "France             255\n",
       "Canada             181\n",
       "Germany            114\n",
       "Name: country, dtype: int64"
      ]
     },
     "execution_count": 13,
     "metadata": {},
     "output_type": "execute_result"
    }
   ],
   "source": [
    "df.country.value_counts(dropna=False).head(5)"
   ]
  },
  {
   "cell_type": "code",
   "execution_count": 14,
   "id": "0fa0220b",
   "metadata": {},
   "outputs": [
    {
     "data": {
      "text/plain": [
       "<Axes: >"
      ]
     },
     "execution_count": 14,
     "metadata": {},
     "output_type": "execute_result"
    },
    {
     "data": {
      "image/png": "[encoded data removed]",
      "text/plain": [
       "<Figure size 640x480 with 1 Axes>"
      ]
     },
     "metadata": {},
     "output_type": "display_data"
    }
   ],
   "source": [
    "df.country.value_counts(dropna=False).head(5).plot(kind=\"barh\", fontsize=10)"
   ]
  },
  {
   "cell_type": "code",
   "execution_count": 15,
   "id": "b1874446",
   "metadata": {},
   "outputs": [
    {
     "data": {
      "text/plain": [
       "2015    210\n",
       "2011    210\n",
       "2007    210\n",
       "2019    209\n",
       "2003    204\n",
       "Name: Years, dtype: int64"
      ]
     },
     "execution_count": 15,
     "metadata": {},
     "output_type": "execute_result"
    }
   ],
   "source": [
    "df.Years.value_counts(dropna=False).head(5)"
   ]
  },
  {
   "cell_type": "code",
   "execution_count": 16,
   "id": "9c1d2a7a",
   "metadata": {},
   "outputs": [
    {
     "data": {
      "text/plain": [
       "<Axes: >"
      ]
     },
     "execution_count": 16,
     "metadata": {},
     "output_type": "execute_result"
    },
    {
     "data": {
      "image/png": "[encoded data removed]",
      "text/plain": [
       "<Figure size 640x480 with 1 Axes>"
      ]
     },
     "metadata": {},
     "output_type": "display_data"
    }
   ],
   "source": [
    "df.Years.value_counts(dropna=False).head(5).plot(kind=\"barh\", fontsize=10)"
   ]
  },
  {
   "cell_type": "code",
   "execution_count": 17,
   "id": "0c847cc1",
   "metadata": {},
   "outputs": [
    {
     "data": {
      "text/plain": [
       "97.0     233\n",
       "98.0     216\n",
       "100.0    214\n",
       "96.0     206\n",
       "90.0     206\n",
       "Name: runtime, dtype: int64"
      ]
     },
     "execution_count": 17,
     "metadata": {},
     "output_type": "execute_result"
    }
   ],
   "source": [
    "df.runtime.value_counts(dropna=False).head(5)"
   ]
  },
  {
   "cell_type": "code",
   "execution_count": 18,
   "id": "4043be34",
   "metadata": {},
   "outputs": [
    {
     "data": {
      "text/plain": [
       "Woody Allen         38\n",
       "Clint Eastwood      31\n",
       "Steven Spielberg    27\n",
       "Directors           25\n",
       "Ron Howard          24\n",
       "Name: director, dtype: int64"
      ]
     },
     "execution_count": 18,
     "metadata": {},
     "output_type": "execute_result"
    }
   ],
   "source": [
    "df.director.value_counts(dropna=False).head(5)"
   ]
  },
  {
   "cell_type": "code",
   "execution_count": 19,
   "id": "afc1443f",
   "metadata": {},
   "outputs": [
    {
     "data": {
      "text/plain": [
       "Woody Allen            37\n",
       "Stephen King           31\n",
       "Luc Besson             25\n",
       "John Hughes            25\n",
       "William Shakespeare    15\n",
       "Name: writer, dtype: int64"
      ]
     },
     "execution_count": 19,
     "metadata": {},
     "output_type": "execute_result"
    }
   ],
   "source": [
    "df.writer.value_counts(dropna=False).head(5)"
   ]
  },
  {
   "cell_type": "code",
   "execution_count": 20,
   "id": "f5c9bc32",
   "metadata": {},
   "outputs": [
    {
     "data": {
      "text/plain": [
       "Nicolas Cage         43\n",
       "Tom Hanks            41\n",
       "Robert De Niro       41\n",
       "Denzel Washington    37\n",
       "Bruce Willis         34\n",
       "Name: star, dtype: int64"
      ]
     },
     "execution_count": 20,
     "metadata": {},
     "output_type": "execute_result"
    }
   ],
   "source": [
    "df.star.value_counts(dropna=False).head(5)"
   ]
  },
  {
   "cell_type": "code",
   "execution_count": 21,
   "id": "022cde49",
   "metadata": {},
   "outputs": [
    {
     "data": {
      "text/plain": [
       "Universal Pictures       376\n",
       "Warner Bros.             332\n",
       "Columbia Pictures        332\n",
       "Paramount Pictures       319\n",
       "Twentieth Century Fox    240\n",
       "Name: company, dtype: int64"
      ]
     },
     "execution_count": 21,
     "metadata": {},
     "output_type": "execute_result"
    }
   ],
   "source": [
    "df.company.value_counts(dropna=False).head(5)"
   ]
  },
  {
   "cell_type": "code",
   "execution_count": null,
   "id": "9661ff07",
   "metadata": {},
   "outputs": [],
   "source": []
  },
  {
   "cell_type": "code",
   "execution_count": null,
   "id": "cc0f57e4",
   "metadata": {},
   "outputs": [],
   "source": []
  },
  {
   "cell_type": "code",
   "execution_count": 23,
   "id": "556e3dbc",
   "metadata": {},
   "outputs": [],
   "source": [
    "def kde_plot(x):\n",
    "    \n",
    "    plt.figure(figsize = (8,3))\n",
    "    sns.distplot(df[x], kde_kws = {\"lw : 5\"}, hist_kws = {'alpha' : 0.25})\n",
    "    sns.despline(left = True)\n",
    "    \n",
    "    mean_age = df[x].mean()\n",
    "    median_age = df[x].median()\n",
    "    \n",
    "    plt.axvline(mean_age, color = 'black', linestyle = 'dashed')\n",
    "    plt.axvline(median_age, color = 'green', linestyle = 'solid')\n",
    "    plt.xlabel('')\n",
    "    plt.ylaabel('')\n",
    "    \n",
    "    return plt.show()"
   ]
  },
  {
   "cell_type": "code",
   "execution_count": 24,
   "id": "57c185ad",
   "metadata": {},
   "outputs": [
    {
     "data": {
      "text/plain": [
       "<function __main__.kde_plot(x)>"
      ]
     },
     "execution_count": 24,
     "metadata": {},
     "output_type": "execute_result"
    }
   ],
   "source": [
    "kde_plot"
   ]
  },
  {
   "cell_type": "code",
   "execution_count": 25,
   "id": "0e6178ae",
   "metadata": {},
   "outputs": [
    {
     "data": {
      "text/html": [
       "<div>\n",
       "<style scoped>\n",
       "    .dataframe tbody tr th:only-of-type {\n",
       "        vertical-align: middle;\n",
       "    }\n",
       "\n",
       "    .dataframe tbody tr th {\n",
       "        vertical-align: top;\n",
       "    }\n",
       "\n",
       "    .dataframe thead th {\n",
       "        text-align: right;\n",
       "    }\n",
       "</style>\n",
       "<table border=\"1\" class=\"dataframe\">\n",
       "  <thead>\n",
       "    <tr style=\"text-align: right;\">\n",
       "      <th></th>\n",
       "      <th>score</th>\n",
       "      <th>votes</th>\n",
       "      <th>budget</th>\n",
       "      <th>gross</th>\n",
       "      <th>runtime</th>\n",
       "      <th>Years</th>\n",
       "    </tr>\n",
       "  </thead>\n",
       "  <tbody>\n",
       "    <tr>\n",
       "      <th>count</th>\n",
       "      <td>7412.000000</td>\n",
       "      <td>7.412000e+03</td>\n",
       "      <td>7.412000e+03</td>\n",
       "      <td>7.412000e+03</td>\n",
       "      <td>7412.000000</td>\n",
       "      <td>7412.000000</td>\n",
       "    </tr>\n",
       "    <tr>\n",
       "      <th>mean</th>\n",
       "      <td>6.396910</td>\n",
       "      <td>9.076357e+04</td>\n",
       "      <td>3.219233e+07</td>\n",
       "      <td>7.899355e+07</td>\n",
       "      <td>107.446438</td>\n",
       "      <td>2000.848354</td>\n",
       "    </tr>\n",
       "    <tr>\n",
       "      <th>std</th>\n",
       "      <td>0.963162</td>\n",
       "      <td>1.653466e+05</td>\n",
       "      <td>3.610663e+07</td>\n",
       "      <td>1.662164e+08</td>\n",
       "      <td>18.517471</td>\n",
       "      <td>11.050378</td>\n",
       "    </tr>\n",
       "    <tr>\n",
       "      <th>min</th>\n",
       "      <td>1.900000</td>\n",
       "      <td>1.050000e+02</td>\n",
       "      <td>6.000000e+03</td>\n",
       "      <td>3.090000e+02</td>\n",
       "      <td>63.000000</td>\n",
       "      <td>1980.000000</td>\n",
       "    </tr>\n",
       "    <tr>\n",
       "      <th>25%</th>\n",
       "      <td>5.800000</td>\n",
       "      <td>1.000000e+04</td>\n",
       "      <td>1.400000e+07</td>\n",
       "      <td>4.633888e+06</td>\n",
       "      <td>95.000000</td>\n",
       "      <td>1991.750000</td>\n",
       "    </tr>\n",
       "    <tr>\n",
       "      <th>50%</th>\n",
       "      <td>6.500000</td>\n",
       "      <td>3.400000e+04</td>\n",
       "      <td>2.180000e+07</td>\n",
       "      <td>2.040352e+07</td>\n",
       "      <td>104.000000</td>\n",
       "      <td>2001.000000</td>\n",
       "    </tr>\n",
       "    <tr>\n",
       "      <th>75%</th>\n",
       "      <td>7.100000</td>\n",
       "      <td>9.600000e+04</td>\n",
       "      <td>3.302500e+07</td>\n",
       "      <td>7.644231e+07</td>\n",
       "      <td>116.000000</td>\n",
       "      <td>2010.000000</td>\n",
       "    </tr>\n",
       "    <tr>\n",
       "      <th>max</th>\n",
       "      <td>9.300000</td>\n",
       "      <td>2.400000e+06</td>\n",
       "      <td>3.560000e+08</td>\n",
       "      <td>2.847246e+09</td>\n",
       "      <td>366.000000</td>\n",
       "      <td>2020.000000</td>\n",
       "    </tr>\n",
       "  </tbody>\n",
       "</table>\n",
       "</div>"
      ],
      "text/plain": [
       "             score         votes        budget         gross      runtime  \\\n",
       "count  7412.000000  7.412000e+03  7.412000e+03  7.412000e+03  7412.000000   \n",
       "mean      6.396910  9.076357e+04  3.219233e+07  7.899355e+07   107.446438   \n",
       "std       0.963162  1.653466e+05  3.610663e+07  1.662164e+08    18.517471   \n",
       "min       1.900000  1.050000e+02  6.000000e+03  3.090000e+02    63.000000   \n",
       "25%       5.800000  1.000000e+04  1.400000e+07  4.633888e+06    95.000000   \n",
       "50%       6.500000  3.400000e+04  2.180000e+07  2.040352e+07   104.000000   \n",
       "75%       7.100000  9.600000e+04  3.302500e+07  7.644231e+07   116.000000   \n",
       "max       9.300000  2.400000e+06  3.560000e+08  2.847246e+09   366.000000   \n",
       "\n",
       "             Years  \n",
       "count  7412.000000  \n",
       "mean   2000.848354  \n",
       "std      11.050378  \n",
       "min    1980.000000  \n",
       "25%    1991.750000  \n",
       "50%    2001.000000  \n",
       "75%    2010.000000  \n",
       "max    2020.000000  "
      ]
     },
     "execution_count": 25,
     "metadata": {},
     "output_type": "execute_result"
    }
   ],
   "source": [
    "df.describe()"
   ]
  },
  {
   "cell_type": "code",
   "execution_count": 26,
   "id": "5b759cc3",
   "metadata": {},
   "outputs": [
    {
     "data": {
      "text/html": [
       "<div>\n",
       "<style scoped>\n",
       "    .dataframe tbody tr th:only-of-type {\n",
       "        vertical-align: middle;\n",
       "    }\n",
       "\n",
       "    .dataframe tbody tr th {\n",
       "        vertical-align: top;\n",
       "    }\n",
       "\n",
       "    .dataframe thead th {\n",
       "        text-align: right;\n",
       "    }\n",
       "</style>\n",
       "<table border=\"1\" class=\"dataframe\">\n",
       "  <thead>\n",
       "    <tr style=\"text-align: right;\">\n",
       "      <th></th>\n",
       "      <th>name</th>\n",
       "      <th>rating</th>\n",
       "      <th>genre</th>\n",
       "      <th>released</th>\n",
       "      <th>score</th>\n",
       "      <th>votes</th>\n",
       "      <th>director</th>\n",
       "      <th>writer</th>\n",
       "      <th>star</th>\n",
       "      <th>country</th>\n",
       "      <th>budget</th>\n",
       "      <th>gross</th>\n",
       "      <th>company</th>\n",
       "      <th>runtime</th>\n",
       "      <th>Years</th>\n",
       "    </tr>\n",
       "  </thead>\n",
       "  <tbody>\n",
       "    <tr>\n",
       "      <th>4386</th>\n",
       "      <td>Superbabies: Baby Geniuses 2</td>\n",
       "      <td>PG</td>\n",
       "      <td>Comedy</td>\n",
       "      <td>August 27, 2004 (United States)</td>\n",
       "      <td>1.9</td>\n",
       "      <td>30000.0</td>\n",
       "      <td>Bob Clark</td>\n",
       "      <td>Robert Grasmere</td>\n",
       "      <td>Jon Voight</td>\n",
       "      <td>Germany</td>\n",
       "      <td>20000000.0</td>\n",
       "      <td>9448644.0</td>\n",
       "      <td>ApolloMedia Distribution</td>\n",
       "      <td>88.0</td>\n",
       "      <td>2004</td>\n",
       "    </tr>\n",
       "    <tr>\n",
       "      <th>5094</th>\n",
       "      <td>Disaster Movie</td>\n",
       "      <td>PG-13</td>\n",
       "      <td>Comedy</td>\n",
       "      <td>August 29, 2008 (United States)</td>\n",
       "      <td>1.9</td>\n",
       "      <td>88000.0</td>\n",
       "      <td>Jason Friedberg</td>\n",
       "      <td>Jason Friedberg</td>\n",
       "      <td>Carmen Electra</td>\n",
       "      <td>United States</td>\n",
       "      <td>20000000.0</td>\n",
       "      <td>34816824.0</td>\n",
       "      <td>Lionsgate</td>\n",
       "      <td>87.0</td>\n",
       "      <td>2008</td>\n",
       "    </tr>\n",
       "    <tr>\n",
       "      <th>5142</th>\n",
       "      <td>The Hottie &amp; the Nottie</td>\n",
       "      <td>PG-13</td>\n",
       "      <td>Comedy</td>\n",
       "      <td>February 21, 2008 (Russia)</td>\n",
       "      <td>1.9</td>\n",
       "      <td>36000.0</td>\n",
       "      <td>Tom Putnam</td>\n",
       "      <td>Heidi Ferrer</td>\n",
       "      <td>Paris Hilton</td>\n",
       "      <td>United States</td>\n",
       "      <td>21800000.0</td>\n",
       "      <td>1596232.0</td>\n",
       "      <td>Purple Pictures</td>\n",
       "      <td>91.0</td>\n",
       "      <td>2008</td>\n",
       "    </tr>\n",
       "  </tbody>\n",
       "</table>\n",
       "</div>"
      ],
      "text/plain": [
       "                              name rating   genre  \\\n",
       "4386  Superbabies: Baby Geniuses 2     PG  Comedy   \n",
       "5094                Disaster Movie  PG-13  Comedy   \n",
       "5142       The Hottie & the Nottie  PG-13  Comedy   \n",
       "\n",
       "                             released  score    votes         director  \\\n",
       "4386  August 27, 2004 (United States)    1.9  30000.0        Bob Clark   \n",
       "5094  August 29, 2008 (United States)    1.9  88000.0  Jason Friedberg   \n",
       "5142       February 21, 2008 (Russia)    1.9  36000.0       Tom Putnam   \n",
       "\n",
       "               writer            star        country      budget       gross  \\\n",
       "4386  Robert Grasmere      Jon Voight        Germany  20000000.0   9448644.0   \n",
       "5094  Jason Friedberg  Carmen Electra  United States  20000000.0  34816824.0   \n",
       "5142     Heidi Ferrer    Paris Hilton  United States  21800000.0   1596232.0   \n",
       "\n",
       "                       company  runtime  Years  \n",
       "4386  ApolloMedia Distribution     88.0   2004  \n",
       "5094                 Lionsgate     87.0   2008  \n",
       "5142           Purple Pictures     91.0   2008  "
      ]
     },
     "execution_count": 26,
     "metadata": {},
     "output_type": "execute_result"
    }
   ],
   "source": [
    "df[df['score'] == df['score'].min()]"
   ]
  },
  {
   "cell_type": "code",
   "execution_count": 27,
   "id": "e8c70708",
   "metadata": {},
   "outputs": [
    {
     "data": {
      "text/html": [
       "<div>\n",
       "<style scoped>\n",
       "    .dataframe tbody tr th:only-of-type {\n",
       "        vertical-align: middle;\n",
       "    }\n",
       "\n",
       "    .dataframe tbody tr th {\n",
       "        vertical-align: top;\n",
       "    }\n",
       "\n",
       "    .dataframe thead th {\n",
       "        text-align: right;\n",
       "    }\n",
       "</style>\n",
       "<table border=\"1\" class=\"dataframe\">\n",
       "  <thead>\n",
       "    <tr style=\"text-align: right;\">\n",
       "      <th></th>\n",
       "      <th>name</th>\n",
       "      <th>rating</th>\n",
       "      <th>genre</th>\n",
       "      <th>released</th>\n",
       "      <th>score</th>\n",
       "      <th>votes</th>\n",
       "      <th>director</th>\n",
       "      <th>writer</th>\n",
       "      <th>star</th>\n",
       "      <th>country</th>\n",
       "      <th>budget</th>\n",
       "      <th>gross</th>\n",
       "      <th>company</th>\n",
       "      <th>runtime</th>\n",
       "      <th>Years</th>\n",
       "    </tr>\n",
       "  </thead>\n",
       "  <tbody>\n",
       "    <tr>\n",
       "      <th>2273</th>\n",
       "      <td>The Shawshank Redemption</td>\n",
       "      <td>R</td>\n",
       "      <td>Drama</td>\n",
       "      <td>October 14, 1994 (United States)</td>\n",
       "      <td>9.3</td>\n",
       "      <td>2400000.0</td>\n",
       "      <td>Frank Darabont</td>\n",
       "      <td>Stephen King</td>\n",
       "      <td>Tim Robbins</td>\n",
       "      <td>United States</td>\n",
       "      <td>25000000.0</td>\n",
       "      <td>28817291.0</td>\n",
       "      <td>Castle Rock Entertainment</td>\n",
       "      <td>142.0</td>\n",
       "      <td>1994</td>\n",
       "    </tr>\n",
       "  </tbody>\n",
       "</table>\n",
       "</div>"
      ],
      "text/plain": [
       "                          name rating  genre  \\\n",
       "2273  The Shawshank Redemption      R  Drama   \n",
       "\n",
       "                              released  score      votes        director  \\\n",
       "2273  October 14, 1994 (United States)    9.3  2400000.0  Frank Darabont   \n",
       "\n",
       "            writer         star        country      budget       gross  \\\n",
       "2273  Stephen King  Tim Robbins  United States  25000000.0  28817291.0   \n",
       "\n",
       "                        company  runtime  Years  \n",
       "2273  Castle Rock Entertainment    142.0   1994  "
      ]
     },
     "execution_count": 27,
     "metadata": {},
     "output_type": "execute_result"
    }
   ],
   "source": [
    "df[df['score'] == df['score'].max()]"
   ]
  },
  {
   "cell_type": "markdown",
   "id": "ae044696",
   "metadata": {},
   "source": [
    "##### The Shawshank Redemption has the highest movie score"
   ]
  },
  {
   "cell_type": "code",
   "execution_count": 28,
   "id": "ddaa48bb",
   "metadata": {},
   "outputs": [
    {
     "data": {
      "text/html": [
       "<div>\n",
       "<style scoped>\n",
       "    .dataframe tbody tr th:only-of-type {\n",
       "        vertical-align: middle;\n",
       "    }\n",
       "\n",
       "    .dataframe tbody tr th {\n",
       "        vertical-align: top;\n",
       "    }\n",
       "\n",
       "    .dataframe thead th {\n",
       "        text-align: right;\n",
       "    }\n",
       "</style>\n",
       "<table border=\"1\" class=\"dataframe\">\n",
       "  <thead>\n",
       "    <tr style=\"text-align: right;\">\n",
       "      <th></th>\n",
       "      <th>name</th>\n",
       "      <th>rating</th>\n",
       "      <th>genre</th>\n",
       "      <th>released</th>\n",
       "      <th>score</th>\n",
       "      <th>votes</th>\n",
       "      <th>director</th>\n",
       "      <th>writer</th>\n",
       "      <th>star</th>\n",
       "      <th>country</th>\n",
       "      <th>budget</th>\n",
       "      <th>gross</th>\n",
       "      <th>company</th>\n",
       "      <th>runtime</th>\n",
       "      <th>Years</th>\n",
       "    </tr>\n",
       "  </thead>\n",
       "  <tbody>\n",
       "    <tr>\n",
       "      <th>582</th>\n",
       "      <td>Petit Con</td>\n",
       "      <td>R</td>\n",
       "      <td>Comedy</td>\n",
       "      <td>April 19, 1985 (United States)</td>\n",
       "      <td>6.2</td>\n",
       "      <td>105.0</td>\n",
       "      <td>Gérard Lauzier</td>\n",
       "      <td>Gérard Lauzier</td>\n",
       "      <td>Guy Marchand</td>\n",
       "      <td>France</td>\n",
       "      <td>21800000.0</td>\n",
       "      <td>127426.0</td>\n",
       "      <td>Gaumont International</td>\n",
       "      <td>90.0</td>\n",
       "      <td>1985</td>\n",
       "    </tr>\n",
       "  </tbody>\n",
       "</table>\n",
       "</div>"
      ],
      "text/plain": [
       "          name rating   genre                        released  score  votes  \\\n",
       "582  Petit Con      R  Comedy  April 19, 1985 (United States)    6.2  105.0   \n",
       "\n",
       "           director          writer          star country      budget  \\\n",
       "582  Gérard Lauzier  Gérard Lauzier  Guy Marchand  France  21800000.0   \n",
       "\n",
       "        gross                company  runtime  Years  \n",
       "582  127426.0  Gaumont International     90.0   1985  "
      ]
     },
     "execution_count": 28,
     "metadata": {},
     "output_type": "execute_result"
    }
   ],
   "source": [
    "df[df['votes'] == df['votes'].min()]"
   ]
  },
  {
   "cell_type": "code",
   "execution_count": 29,
   "id": "4076fe02",
   "metadata": {},
   "outputs": [
    {
     "data": {
      "text/html": [
       "<div>\n",
       "<style scoped>\n",
       "    .dataframe tbody tr th:only-of-type {\n",
       "        vertical-align: middle;\n",
       "    }\n",
       "\n",
       "    .dataframe tbody tr th {\n",
       "        vertical-align: top;\n",
       "    }\n",
       "\n",
       "    .dataframe thead th {\n",
       "        text-align: right;\n",
       "    }\n",
       "</style>\n",
       "<table border=\"1\" class=\"dataframe\">\n",
       "  <thead>\n",
       "    <tr style=\"text-align: right;\">\n",
       "      <th></th>\n",
       "      <th>name</th>\n",
       "      <th>rating</th>\n",
       "      <th>genre</th>\n",
       "      <th>released</th>\n",
       "      <th>score</th>\n",
       "      <th>votes</th>\n",
       "      <th>director</th>\n",
       "      <th>writer</th>\n",
       "      <th>star</th>\n",
       "      <th>country</th>\n",
       "      <th>budget</th>\n",
       "      <th>gross</th>\n",
       "      <th>company</th>\n",
       "      <th>runtime</th>\n",
       "      <th>Years</th>\n",
       "    </tr>\n",
       "  </thead>\n",
       "  <tbody>\n",
       "    <tr>\n",
       "      <th>2273</th>\n",
       "      <td>The Shawshank Redemption</td>\n",
       "      <td>R</td>\n",
       "      <td>Drama</td>\n",
       "      <td>October 14, 1994 (United States)</td>\n",
       "      <td>9.3</td>\n",
       "      <td>2400000.0</td>\n",
       "      <td>Frank Darabont</td>\n",
       "      <td>Stephen King</td>\n",
       "      <td>Tim Robbins</td>\n",
       "      <td>United States</td>\n",
       "      <td>25000000.0</td>\n",
       "      <td>2.881729e+07</td>\n",
       "      <td>Castle Rock Entertainment</td>\n",
       "      <td>142.0</td>\n",
       "      <td>1994</td>\n",
       "    </tr>\n",
       "    <tr>\n",
       "      <th>5032</th>\n",
       "      <td>The Dark Knight</td>\n",
       "      <td>PG-13</td>\n",
       "      <td>Action</td>\n",
       "      <td>July 18, 2008 (United States)</td>\n",
       "      <td>9.0</td>\n",
       "      <td>2400000.0</td>\n",
       "      <td>Christopher Nolan</td>\n",
       "      <td>Jonathan Nolan</td>\n",
       "      <td>Christian Bale</td>\n",
       "      <td>United States</td>\n",
       "      <td>185000000.0</td>\n",
       "      <td>1.005974e+09</td>\n",
       "      <td>Warner Bros.</td>\n",
       "      <td>152.0</td>\n",
       "      <td>2008</td>\n",
       "    </tr>\n",
       "  </tbody>\n",
       "</table>\n",
       "</div>"
      ],
      "text/plain": [
       "                          name rating   genre  \\\n",
       "2273  The Shawshank Redemption      R   Drama   \n",
       "5032           The Dark Knight  PG-13  Action   \n",
       "\n",
       "                              released  score      votes           director  \\\n",
       "2273  October 14, 1994 (United States)    9.3  2400000.0     Frank Darabont   \n",
       "5032     July 18, 2008 (United States)    9.0  2400000.0  Christopher Nolan   \n",
       "\n",
       "              writer            star        country       budget  \\\n",
       "2273    Stephen King     Tim Robbins  United States   25000000.0   \n",
       "5032  Jonathan Nolan  Christian Bale  United States  185000000.0   \n",
       "\n",
       "             gross                    company  runtime  Years  \n",
       "2273  2.881729e+07  Castle Rock Entertainment    142.0   1994  \n",
       "5032  1.005974e+09               Warner Bros.    152.0   2008  "
      ]
     },
     "execution_count": 29,
     "metadata": {},
     "output_type": "execute_result"
    }
   ],
   "source": [
    "df[df['votes'] == df['votes'].max()]"
   ]
  },
  {
   "cell_type": "code",
   "execution_count": 30,
   "id": "fb152b50",
   "metadata": {},
   "outputs": [
    {
     "data": {
      "text/html": [
       "<div>\n",
       "<style scoped>\n",
       "    .dataframe tbody tr th:only-of-type {\n",
       "        vertical-align: middle;\n",
       "    }\n",
       "\n",
       "    .dataframe tbody tr th {\n",
       "        vertical-align: top;\n",
       "    }\n",
       "\n",
       "    .dataframe thead th {\n",
       "        text-align: right;\n",
       "    }\n",
       "</style>\n",
       "<table border=\"1\" class=\"dataframe\">\n",
       "  <thead>\n",
       "    <tr style=\"text-align: right;\">\n",
       "      <th></th>\n",
       "      <th>name</th>\n",
       "      <th>rating</th>\n",
       "      <th>genre</th>\n",
       "      <th>released</th>\n",
       "      <th>score</th>\n",
       "      <th>votes</th>\n",
       "      <th>director</th>\n",
       "      <th>writer</th>\n",
       "      <th>star</th>\n",
       "      <th>country</th>\n",
       "      <th>budget</th>\n",
       "      <th>gross</th>\n",
       "      <th>company</th>\n",
       "      <th>runtime</th>\n",
       "      <th>Years</th>\n",
       "    </tr>\n",
       "  </thead>\n",
       "  <tbody>\n",
       "    <tr>\n",
       "      <th>3136</th>\n",
       "      <td>Following</td>\n",
       "      <td>R</td>\n",
       "      <td>Crime</td>\n",
       "      <td>November 5, 1999 (United Kingdom)</td>\n",
       "      <td>7.5</td>\n",
       "      <td>89000.0</td>\n",
       "      <td>Christopher Nolan</td>\n",
       "      <td>Christopher Nolan</td>\n",
       "      <td>Jeremy Theobald</td>\n",
       "      <td>United Kingdom</td>\n",
       "      <td>6000.0</td>\n",
       "      <td>48482.0</td>\n",
       "      <td>Next Wave Films</td>\n",
       "      <td>69.0</td>\n",
       "      <td>1999</td>\n",
       "    </tr>\n",
       "  </tbody>\n",
       "</table>\n",
       "</div>"
      ],
      "text/plain": [
       "           name rating  genre                           released  score  \\\n",
       "3136  Following      R  Crime  November 5, 1999 (United Kingdom)    7.5   \n",
       "\n",
       "        votes           director             writer             star  \\\n",
       "3136  89000.0  Christopher Nolan  Christopher Nolan  Jeremy Theobald   \n",
       "\n",
       "             country  budget    gross          company  runtime  Years  \n",
       "3136  United Kingdom  6000.0  48482.0  Next Wave Films     69.0   1999  "
      ]
     },
     "execution_count": 30,
     "metadata": {},
     "output_type": "execute_result"
    }
   ],
   "source": [
    "df[df['budget'] == df['budget'].min()]"
   ]
  },
  {
   "cell_type": "code",
   "execution_count": 31,
   "id": "6ffd67f8",
   "metadata": {},
   "outputs": [
    {
     "data": {
      "text/html": [
       "<div>\n",
       "<style scoped>\n",
       "    .dataframe tbody tr th:only-of-type {\n",
       "        vertical-align: middle;\n",
       "    }\n",
       "\n",
       "    .dataframe tbody tr th {\n",
       "        vertical-align: top;\n",
       "    }\n",
       "\n",
       "    .dataframe thead th {\n",
       "        text-align: right;\n",
       "    }\n",
       "</style>\n",
       "<table border=\"1\" class=\"dataframe\">\n",
       "  <thead>\n",
       "    <tr style=\"text-align: right;\">\n",
       "      <th></th>\n",
       "      <th>name</th>\n",
       "      <th>rating</th>\n",
       "      <th>genre</th>\n",
       "      <th>released</th>\n",
       "      <th>score</th>\n",
       "      <th>votes</th>\n",
       "      <th>director</th>\n",
       "      <th>writer</th>\n",
       "      <th>star</th>\n",
       "      <th>country</th>\n",
       "      <th>budget</th>\n",
       "      <th>gross</th>\n",
       "      <th>company</th>\n",
       "      <th>runtime</th>\n",
       "      <th>Years</th>\n",
       "    </tr>\n",
       "  </thead>\n",
       "  <tbody>\n",
       "    <tr>\n",
       "      <th>7221</th>\n",
       "      <td>Avengers: Endgame</td>\n",
       "      <td>PG-13</td>\n",
       "      <td>Action</td>\n",
       "      <td>April 26, 2019 (United States)</td>\n",
       "      <td>8.4</td>\n",
       "      <td>903000.0</td>\n",
       "      <td>Anthony Russo</td>\n",
       "      <td>Christopher Markus</td>\n",
       "      <td>Robert Downey Jr.</td>\n",
       "      <td>United States</td>\n",
       "      <td>356000000.0</td>\n",
       "      <td>2.797501e+09</td>\n",
       "      <td>Marvel Studios</td>\n",
       "      <td>181.0</td>\n",
       "      <td>2019</td>\n",
       "    </tr>\n",
       "  </tbody>\n",
       "</table>\n",
       "</div>"
      ],
      "text/plain": [
       "                   name rating   genre                        released  score  \\\n",
       "7221  Avengers: Endgame  PG-13  Action  April 26, 2019 (United States)    8.4   \n",
       "\n",
       "         votes       director              writer               star  \\\n",
       "7221  903000.0  Anthony Russo  Christopher Markus  Robert Downey Jr.   \n",
       "\n",
       "            country       budget         gross         company  runtime  Years  \n",
       "7221  United States  356000000.0  2.797501e+09  Marvel Studios    181.0   2019  "
      ]
     },
     "execution_count": 31,
     "metadata": {},
     "output_type": "execute_result"
    }
   ],
   "source": [
    "df[df['budget'] == df['budget'].max()]"
   ]
  },
  {
   "cell_type": "code",
   "execution_count": 32,
   "id": "1a523974",
   "metadata": {},
   "outputs": [
    {
     "data": {
      "text/html": [
       "<div>\n",
       "<style scoped>\n",
       "    .dataframe tbody tr th:only-of-type {\n",
       "        vertical-align: middle;\n",
       "    }\n",
       "\n",
       "    .dataframe tbody tr th {\n",
       "        vertical-align: top;\n",
       "    }\n",
       "\n",
       "    .dataframe thead th {\n",
       "        text-align: right;\n",
       "    }\n",
       "</style>\n",
       "<table border=\"1\" class=\"dataframe\">\n",
       "  <thead>\n",
       "    <tr style=\"text-align: right;\">\n",
       "      <th></th>\n",
       "      <th>name</th>\n",
       "      <th>rating</th>\n",
       "      <th>genre</th>\n",
       "      <th>released</th>\n",
       "      <th>score</th>\n",
       "      <th>votes</th>\n",
       "      <th>director</th>\n",
       "      <th>writer</th>\n",
       "      <th>star</th>\n",
       "      <th>country</th>\n",
       "      <th>budget</th>\n",
       "      <th>gross</th>\n",
       "      <th>company</th>\n",
       "      <th>runtime</th>\n",
       "      <th>Years</th>\n",
       "    </tr>\n",
       "  </thead>\n",
       "  <tbody>\n",
       "    <tr>\n",
       "      <th>3021</th>\n",
       "      <td>Trojan War</td>\n",
       "      <td>PG-13</td>\n",
       "      <td>Comedy</td>\n",
       "      <td>October 1, 1997 (Brazil)</td>\n",
       "      <td>5.7</td>\n",
       "      <td>5800.0</td>\n",
       "      <td>George Huang</td>\n",
       "      <td>Andy Burg</td>\n",
       "      <td>Will Friedle</td>\n",
       "      <td>United States</td>\n",
       "      <td>15000000.0</td>\n",
       "      <td>309.0</td>\n",
       "      <td>Daybreak</td>\n",
       "      <td>85.0</td>\n",
       "      <td>1997</td>\n",
       "    </tr>\n",
       "  </tbody>\n",
       "</table>\n",
       "</div>"
      ],
      "text/plain": [
       "            name rating   genre                  released  score   votes  \\\n",
       "3021  Trojan War  PG-13  Comedy  October 1, 1997 (Brazil)    5.7  5800.0   \n",
       "\n",
       "          director     writer          star        country      budget  gross  \\\n",
       "3021  George Huang  Andy Burg  Will Friedle  United States  15000000.0  309.0   \n",
       "\n",
       "       company  runtime  Years  \n",
       "3021  Daybreak     85.0   1997  "
      ]
     },
     "execution_count": 32,
     "metadata": {},
     "output_type": "execute_result"
    }
   ],
   "source": [
    "df[df['gross'] == df['gross'].min()]"
   ]
  },
  {
   "cell_type": "code",
   "execution_count": 33,
   "id": "3c61a968",
   "metadata": {},
   "outputs": [
    {
     "data": {
      "text/html": [
       "<div>\n",
       "<style scoped>\n",
       "    .dataframe tbody tr th:only-of-type {\n",
       "        vertical-align: middle;\n",
       "    }\n",
       "\n",
       "    .dataframe tbody tr th {\n",
       "        vertical-align: top;\n",
       "    }\n",
       "\n",
       "    .dataframe thead th {\n",
       "        text-align: right;\n",
       "    }\n",
       "</style>\n",
       "<table border=\"1\" class=\"dataframe\">\n",
       "  <thead>\n",
       "    <tr style=\"text-align: right;\">\n",
       "      <th></th>\n",
       "      <th>name</th>\n",
       "      <th>rating</th>\n",
       "      <th>genre</th>\n",
       "      <th>released</th>\n",
       "      <th>score</th>\n",
       "      <th>votes</th>\n",
       "      <th>director</th>\n",
       "      <th>writer</th>\n",
       "      <th>star</th>\n",
       "      <th>country</th>\n",
       "      <th>budget</th>\n",
       "      <th>gross</th>\n",
       "      <th>company</th>\n",
       "      <th>runtime</th>\n",
       "      <th>Years</th>\n",
       "    </tr>\n",
       "  </thead>\n",
       "  <tbody>\n",
       "    <tr>\n",
       "      <th>5233</th>\n",
       "      <td>Avatar</td>\n",
       "      <td>PG-13</td>\n",
       "      <td>Action</td>\n",
       "      <td>December 18, 2009 (United States)</td>\n",
       "      <td>7.8</td>\n",
       "      <td>1100000.0</td>\n",
       "      <td>James Cameron</td>\n",
       "      <td>James Cameron</td>\n",
       "      <td>Sam Worthington</td>\n",
       "      <td>United States</td>\n",
       "      <td>237000000.0</td>\n",
       "      <td>2.847246e+09</td>\n",
       "      <td>Twentieth Century Fox</td>\n",
       "      <td>162.0</td>\n",
       "      <td>2009</td>\n",
       "    </tr>\n",
       "  </tbody>\n",
       "</table>\n",
       "</div>"
      ],
      "text/plain": [
       "        name rating   genre                           released  score  \\\n",
       "5233  Avatar  PG-13  Action  December 18, 2009 (United States)    7.8   \n",
       "\n",
       "          votes       director         writer             star        country  \\\n",
       "5233  1100000.0  James Cameron  James Cameron  Sam Worthington  United States   \n",
       "\n",
       "           budget         gross                company  runtime  Years  \n",
       "5233  237000000.0  2.847246e+09  Twentieth Century Fox    162.0   2009  "
      ]
     },
     "execution_count": 33,
     "metadata": {},
     "output_type": "execute_result"
    }
   ],
   "source": [
    "df[df['gross'] == df['gross'].max()]"
   ]
  },
  {
   "cell_type": "code",
   "execution_count": 34,
   "id": "a9bfe5e2",
   "metadata": {},
   "outputs": [
    {
     "data": {
      "text/html": [
       "<div>\n",
       "<style scoped>\n",
       "    .dataframe tbody tr th:only-of-type {\n",
       "        vertical-align: middle;\n",
       "    }\n",
       "\n",
       "    .dataframe tbody tr th {\n",
       "        vertical-align: top;\n",
       "    }\n",
       "\n",
       "    .dataframe thead th {\n",
       "        text-align: right;\n",
       "    }\n",
       "</style>\n",
       "<table border=\"1\" class=\"dataframe\">\n",
       "  <thead>\n",
       "    <tr style=\"text-align: right;\">\n",
       "      <th></th>\n",
       "      <th>name</th>\n",
       "      <th>rating</th>\n",
       "      <th>genre</th>\n",
       "      <th>released</th>\n",
       "      <th>score</th>\n",
       "      <th>votes</th>\n",
       "      <th>director</th>\n",
       "      <th>writer</th>\n",
       "      <th>star</th>\n",
       "      <th>country</th>\n",
       "      <th>budget</th>\n",
       "      <th>gross</th>\n",
       "      <th>company</th>\n",
       "      <th>runtime</th>\n",
       "      <th>Years</th>\n",
       "    </tr>\n",
       "  </thead>\n",
       "  <tbody>\n",
       "    <tr>\n",
       "      <th>5770</th>\n",
       "      <td>Winnie the Pooh</td>\n",
       "      <td>G</td>\n",
       "      <td>Animation</td>\n",
       "      <td>July 15, 2011 (United States)</td>\n",
       "      <td>7.2</td>\n",
       "      <td>23000.0</td>\n",
       "      <td>Stephen J. Anderson</td>\n",
       "      <td>Stephen J. Anderson</td>\n",
       "      <td>Jim Cummings</td>\n",
       "      <td>United States</td>\n",
       "      <td>30000000.0</td>\n",
       "      <td>49871429.0</td>\n",
       "      <td>Walt Disney Pictures</td>\n",
       "      <td>63.0</td>\n",
       "      <td>2011</td>\n",
       "    </tr>\n",
       "  </tbody>\n",
       "</table>\n",
       "</div>"
      ],
      "text/plain": [
       "                 name rating      genre                       released  score  \\\n",
       "5770  Winnie the Pooh      G  Animation  July 15, 2011 (United States)    7.2   \n",
       "\n",
       "        votes             director               writer          star  \\\n",
       "5770  23000.0  Stephen J. Anderson  Stephen J. Anderson  Jim Cummings   \n",
       "\n",
       "            country      budget       gross               company  runtime  \\\n",
       "5770  United States  30000000.0  49871429.0  Walt Disney Pictures     63.0   \n",
       "\n",
       "      Years  \n",
       "5770   2011  "
      ]
     },
     "execution_count": 34,
     "metadata": {},
     "output_type": "execute_result"
    }
   ],
   "source": [
    "df[df['runtime'] == df['runtime'].min()]"
   ]
  },
  {
   "cell_type": "code",
   "execution_count": null,
   "id": "fa230af0",
   "metadata": {},
   "outputs": [],
   "source": []
  },
  {
   "cell_type": "markdown",
   "id": "a6bf557c",
   "metadata": {},
   "source": [
    "## Correlation Analysis"
   ]
  },
  {
   "cell_type": "code",
   "execution_count": 35,
   "id": "3ec58eaa",
   "metadata": {},
   "outputs": [
    {
     "data": {
      "text/plain": [
       "<function matplotlib.pyplot.show(close=None, block=None)>"
      ]
     },
     "execution_count": 35,
     "metadata": {},
     "output_type": "execute_result"
    },
    {
     "data": {
      "image/png": "[encoded data removed]",
      "text/plain": [
       "<Figure size 2500x800 with 4 Axes>"
      ]
     },
     "metadata": {},
     "output_type": "display_data"
    }
   ],
   "source": [
    "#declaring numeric variables\n",
    "numeric = ['score', 'votes', 'budget', 'runtime']\n",
    "\n",
    "#Create a grid of subplots\n",
    "fig, axes = plt.subplots(1, 4, figsize = (25, 8))\n",
    "\n",
    "#flatten the axes array to make it ID\n",
    "axes = axes.ravel()\n",
    "\n",
    "# loop through each subplot and plot sns.regplot\n",
    "for i, col in enumerate(numeric):\n",
    "    sns.regplot(x=col, y='gross', data = df, ax=axes[i], scatter_kws= {\"color\": \"red\"}, line_kws={\"color\":\"black\"})\n",
    "    axes[i].set_xlabel(col)\n",
    "    axes[i].set_ylabel('')\n",
    "    \n",
    "# Adjust spacing between subplots\n",
    "plt.tight_layout()\n",
    "\n",
    "# Show the plot\n",
    "plt.show"
   ]
  },
  {
   "cell_type": "markdown",
   "id": "91dfabad",
   "metadata": {},
   "source": [
    "##### Knowing the exact correlation using pearson function"
   ]
  },
  {
   "cell_type": "code",
   "execution_count": null,
   "id": "3e50fa6f",
   "metadata": {},
   "outputs": [],
   "source": []
  },
  {
   "cell_type": "code",
   "execution_count": 36,
   "id": "1cd29766",
   "metadata": {},
   "outputs": [
    {
     "data": {
      "image/png": "[encoded data removed]",
      "text/plain": [
       "<Figure size 1800x300 with 2 Axes>"
      ]
     },
     "metadata": {},
     "output_type": "display_data"
    }
   ],
   "source": [
    "pearson_cor = df[['gross', 'score', 'votes', 'budget', 'runtime']].corr(method = 'pearson')\n",
    "\n",
    "plt.figure(figsize = (18, 3))\n",
    "\n",
    "sns.heatmap(pearson_cor,\n",
    "           vmin = -1,\n",
    "           vmax = 1,\n",
    "           cmap = \"GnBu\",\n",
    "           annot = True)\n",
    "\n",
    "plt.show()"
   ]
  },
  {
   "cell_type": "code",
   "execution_count": 38,
   "id": "f11442ab",
   "metadata": {
    "scrolled": false
   },
   "outputs": [
    {
     "name": "stdout",
     "output_type": "stream",
     "text": [
      "p-value for gross ~ name: 0.94966314088363\n",
      "p-value for gross ~ rating: 1.3081899073664724e-99\n",
      "p-value for gross ~ genre: 2.123992563094825e-179\n",
      "p-value for gross ~ director: 4.2311527892537284e-89\n",
      "p-value for gross ~ writer: 0.004341822809519859\n",
      "p-value for gross ~ star: 5.2048852708495885e-09\n",
      "p-value for gross ~ company: 1.4141186456628302e-15\n",
      "p-value for gross ~ Years: 1.2723921755143281e-107\n"
     ]
    }
   ],
   "source": [
    "cat_list = ['name', 'rating', 'genre', 'director', 'writer', 'star', 'company', 'Years']\n",
    "\n",
    "import statsmodels.api as sm\n",
    "from statsmodels.formula.api import ols\n",
    "\n",
    "for i in cat_list:\n",
    "    formula = 'gross ~ {}'.format(i)\n",
    "    model = ols(formula, data=df).fit()\n",
    "    anova = sm.stats.anova_lm(model, typ=2)\n",
    "    p_value = anova.iloc[0,3]\n",
    "    \n",
    "    print('p-value for gross ~ {}: {}'.format(i, p_value))\n"
   ]
  },
  {
   "cell_type": "code",
   "execution_count": null,
   "id": "74de9a38",
   "metadata": {},
   "outputs": [],
   "source": []
  },
  {
   "cell_type": "code",
   "execution_count": 42,
   "id": "143f6566",
   "metadata": {},
   "outputs": [],
   "source": [
    "def mean_pairwise(cat_var):\n",
    "    mean_by = df.groupby(cat_var)['gross'].mean()\n",
    "    mean_by = pd.DataFrame(mean_by)\n",
    "    mean_by = mean_by.sort_values(by=['gross'], inplace=False, ascending=False)\n",
    "    \n",
    "    return mean_by.head(5)\n"
   ]
  },
  {
   "cell_type": "code",
   "execution_count": 43,
   "id": "773b5310",
   "metadata": {},
   "outputs": [
    {
     "data": {
      "text/html": [
       "<div>\n",
       "<style scoped>\n",
       "    .dataframe tbody tr th:only-of-type {\n",
       "        vertical-align: middle;\n",
       "    }\n",
       "\n",
       "    .dataframe tbody tr th {\n",
       "        vertical-align: top;\n",
       "    }\n",
       "\n",
       "    .dataframe thead th {\n",
       "        text-align: right;\n",
       "    }\n",
       "</style>\n",
       "<table border=\"1\" class=\"dataframe\">\n",
       "  <thead>\n",
       "    <tr style=\"text-align: right;\">\n",
       "      <th></th>\n",
       "      <th>gross</th>\n",
       "    </tr>\n",
       "    <tr>\n",
       "      <th>rating</th>\n",
       "      <th></th>\n",
       "    </tr>\n",
       "  </thead>\n",
       "  <tbody>\n",
       "    <tr>\n",
       "      <th>G</th>\n",
       "      <td>1.420433e+08</td>\n",
       "    </tr>\n",
       "    <tr>\n",
       "      <th>PG-13</th>\n",
       "      <td>1.309839e+08</td>\n",
       "    </tr>\n",
       "    <tr>\n",
       "      <th>TV-PG</th>\n",
       "      <td>1.202498e+08</td>\n",
       "    </tr>\n",
       "    <tr>\n",
       "      <th>PG</th>\n",
       "      <td>1.066129e+08</td>\n",
       "    </tr>\n",
       "    <tr>\n",
       "      <th>TV-MA</th>\n",
       "      <td>7.917078e+07</td>\n",
       "    </tr>\n",
       "  </tbody>\n",
       "</table>\n",
       "</div>"
      ],
      "text/plain": [
       "               gross\n",
       "rating              \n",
       "G       1.420433e+08\n",
       "PG-13   1.309839e+08\n",
       "TV-PG   1.202498e+08\n",
       "PG      1.066129e+08\n",
       "TV-MA   7.917078e+07"
      ]
     },
     "execution_count": 43,
     "metadata": {},
     "output_type": "execute_result"
    }
   ],
   "source": [
    "mean_pairwise('rating')"
   ]
  },
  {
   "cell_type": "code",
   "execution_count": 44,
   "id": "a3e53428",
   "metadata": {},
   "outputs": [
    {
     "data": {
      "text/html": [
       "<div>\n",
       "<style scoped>\n",
       "    .dataframe tbody tr th:only-of-type {\n",
       "        vertical-align: middle;\n",
       "    }\n",
       "\n",
       "    .dataframe tbody tr th {\n",
       "        vertical-align: top;\n",
       "    }\n",
       "\n",
       "    .dataframe thead th {\n",
       "        text-align: right;\n",
       "    }\n",
       "</style>\n",
       "<table border=\"1\" class=\"dataframe\">\n",
       "  <thead>\n",
       "    <tr style=\"text-align: right;\">\n",
       "      <th></th>\n",
       "      <th>gross</th>\n",
       "    </tr>\n",
       "    <tr>\n",
       "      <th>name</th>\n",
       "      <th></th>\n",
       "    </tr>\n",
       "  </thead>\n",
       "  <tbody>\n",
       "    <tr>\n",
       "      <th>Avatar</th>\n",
       "      <td>2.847246e+09</td>\n",
       "    </tr>\n",
       "    <tr>\n",
       "      <th>Avengers: Endgame</th>\n",
       "      <td>2.797501e+09</td>\n",
       "    </tr>\n",
       "    <tr>\n",
       "      <th>Titanic</th>\n",
       "      <td>2.201647e+09</td>\n",
       "    </tr>\n",
       "    <tr>\n",
       "      <th>Star Wars: Episode VII - The Force Awakens</th>\n",
       "      <td>2.069522e+09</td>\n",
       "    </tr>\n",
       "    <tr>\n",
       "      <th>Avengers: Infinity War</th>\n",
       "      <td>2.048360e+09</td>\n",
       "    </tr>\n",
       "  </tbody>\n",
       "</table>\n",
       "</div>"
      ],
      "text/plain": [
       "                                                   gross\n",
       "name                                                    \n",
       "Avatar                                      2.847246e+09\n",
       "Avengers: Endgame                           2.797501e+09\n",
       "Titanic                                     2.201647e+09\n",
       "Star Wars: Episode VII - The Force Awakens  2.069522e+09\n",
       "Avengers: Infinity War                      2.048360e+09"
      ]
     },
     "execution_count": 44,
     "metadata": {},
     "output_type": "execute_result"
    }
   ],
   "source": [
    "mean_pairwise('name')"
   ]
  },
  {
   "cell_type": "code",
   "execution_count": 45,
   "id": "d37e74de",
   "metadata": {},
   "outputs": [
    {
     "data": {
      "text/html": [
       "<div>\n",
       "<style scoped>\n",
       "    .dataframe tbody tr th:only-of-type {\n",
       "        vertical-align: middle;\n",
       "    }\n",
       "\n",
       "    .dataframe tbody tr th {\n",
       "        vertical-align: top;\n",
       "    }\n",
       "\n",
       "    .dataframe thead th {\n",
       "        text-align: right;\n",
       "    }\n",
       "</style>\n",
       "<table border=\"1\" class=\"dataframe\">\n",
       "  <thead>\n",
       "    <tr style=\"text-align: right;\">\n",
       "      <th></th>\n",
       "      <th>gross</th>\n",
       "    </tr>\n",
       "    <tr>\n",
       "      <th>genre</th>\n",
       "      <th></th>\n",
       "    </tr>\n",
       "  </thead>\n",
       "  <tbody>\n",
       "    <tr>\n",
       "      <th>Animation</th>\n",
       "      <td>2.413567e+08</td>\n",
       "    </tr>\n",
       "    <tr>\n",
       "      <th>Family</th>\n",
       "      <td>2.157876e+08</td>\n",
       "    </tr>\n",
       "    <tr>\n",
       "      <th>Action</th>\n",
       "      <td>1.458350e+08</td>\n",
       "    </tr>\n",
       "    <tr>\n",
       "      <th>Adventure</th>\n",
       "      <td>1.095587e+08</td>\n",
       "    </tr>\n",
       "    <tr>\n",
       "      <th>Mystery</th>\n",
       "      <td>1.011835e+08</td>\n",
       "    </tr>\n",
       "  </tbody>\n",
       "</table>\n",
       "</div>"
      ],
      "text/plain": [
       "                  gross\n",
       "genre                  \n",
       "Animation  2.413567e+08\n",
       "Family     2.157876e+08\n",
       "Action     1.458350e+08\n",
       "Adventure  1.095587e+08\n",
       "Mystery    1.011835e+08"
      ]
     },
     "execution_count": 45,
     "metadata": {},
     "output_type": "execute_result"
    }
   ],
   "source": [
    "mean_pairwise('genre')"
   ]
  },
  {
   "cell_type": "code",
   "execution_count": 46,
   "id": "6e420d14",
   "metadata": {},
   "outputs": [
    {
     "data": {
      "text/html": [
       "<div>\n",
       "<style scoped>\n",
       "    .dataframe tbody tr th:only-of-type {\n",
       "        vertical-align: middle;\n",
       "    }\n",
       "\n",
       "    .dataframe tbody tr th {\n",
       "        vertical-align: top;\n",
       "    }\n",
       "\n",
       "    .dataframe thead th {\n",
       "        text-align: right;\n",
       "    }\n",
       "</style>\n",
       "<table border=\"1\" class=\"dataframe\">\n",
       "  <thead>\n",
       "    <tr style=\"text-align: right;\">\n",
       "      <th></th>\n",
       "      <th>gross</th>\n",
       "    </tr>\n",
       "    <tr>\n",
       "      <th>director</th>\n",
       "      <th></th>\n",
       "    </tr>\n",
       "  </thead>\n",
       "  <tbody>\n",
       "    <tr>\n",
       "      <th>Anthony Russo</th>\n",
       "      <td>1.368850e+09</td>\n",
       "    </tr>\n",
       "    <tr>\n",
       "      <th>Kyle Balda</th>\n",
       "      <td>1.097122e+09</td>\n",
       "    </tr>\n",
       "    <tr>\n",
       "      <th>Josh Cooley</th>\n",
       "      <td>1.073395e+09</td>\n",
       "    </tr>\n",
       "    <tr>\n",
       "      <th>Chris Buck</th>\n",
       "      <td>1.059909e+09</td>\n",
       "    </tr>\n",
       "    <tr>\n",
       "      <th>Lee Unkrich</th>\n",
       "      <td>9.373943e+08</td>\n",
       "    </tr>\n",
       "  </tbody>\n",
       "</table>\n",
       "</div>"
      ],
      "text/plain": [
       "                      gross\n",
       "director                   \n",
       "Anthony Russo  1.368850e+09\n",
       "Kyle Balda     1.097122e+09\n",
       "Josh Cooley    1.073395e+09\n",
       "Chris Buck     1.059909e+09\n",
       "Lee Unkrich    9.373943e+08"
      ]
     },
     "execution_count": 46,
     "metadata": {},
     "output_type": "execute_result"
    }
   ],
   "source": [
    "mean_pairwise('director')\n"
   ]
  },
  {
   "cell_type": "code",
   "execution_count": 47,
   "id": "42d29b92",
   "metadata": {},
   "outputs": [
    {
     "data": {
      "text/html": [
       "<div>\n",
       "<style scoped>\n",
       "    .dataframe tbody tr th:only-of-type {\n",
       "        vertical-align: middle;\n",
       "    }\n",
       "\n",
       "    .dataframe tbody tr th {\n",
       "        vertical-align: top;\n",
       "    }\n",
       "\n",
       "    .dataframe thead th {\n",
       "        text-align: right;\n",
       "    }\n",
       "</style>\n",
       "<table border=\"1\" class=\"dataframe\">\n",
       "  <thead>\n",
       "    <tr style=\"text-align: right;\">\n",
       "      <th></th>\n",
       "      <th>gross</th>\n",
       "    </tr>\n",
       "    <tr>\n",
       "      <th>writer</th>\n",
       "      <th></th>\n",
       "    </tr>\n",
       "  </thead>\n",
       "  <tbody>\n",
       "    <tr>\n",
       "      <th>Christopher Markus</th>\n",
       "      <td>1.083883e+09</td>\n",
       "    </tr>\n",
       "    <tr>\n",
       "      <th>Irene Mecchi</th>\n",
       "      <td>1.083721e+09</td>\n",
       "    </tr>\n",
       "    <tr>\n",
       "      <th>Rick Jaffa</th>\n",
       "      <td>1.076159e+09</td>\n",
       "    </tr>\n",
       "    <tr>\n",
       "      <th>Byron Howard</th>\n",
       "      <td>1.024121e+09</td>\n",
       "    </tr>\n",
       "    <tr>\n",
       "      <th>J.R.R. Tolkien</th>\n",
       "      <td>9.970720e+08</td>\n",
       "    </tr>\n",
       "  </tbody>\n",
       "</table>\n",
       "</div>"
      ],
      "text/plain": [
       "                           gross\n",
       "writer                          \n",
       "Christopher Markus  1.083883e+09\n",
       "Irene Mecchi        1.083721e+09\n",
       "Rick Jaffa          1.076159e+09\n",
       "Byron Howard        1.024121e+09\n",
       "J.R.R. Tolkien      9.970720e+08"
      ]
     },
     "execution_count": 47,
     "metadata": {},
     "output_type": "execute_result"
    }
   ],
   "source": [
    "mean_pairwise('writer')"
   ]
  },
  {
   "cell_type": "code",
   "execution_count": 48,
   "id": "f90c26f4",
   "metadata": {},
   "outputs": [
    {
     "data": {
      "text/html": [
       "<div>\n",
       "<style scoped>\n",
       "    .dataframe tbody tr th:only-of-type {\n",
       "        vertical-align: middle;\n",
       "    }\n",
       "\n",
       "    .dataframe tbody tr th {\n",
       "        vertical-align: top;\n",
       "    }\n",
       "\n",
       "    .dataframe thead th {\n",
       "        text-align: right;\n",
       "    }\n",
       "</style>\n",
       "<table border=\"1\" class=\"dataframe\">\n",
       "  <thead>\n",
       "    <tr style=\"text-align: right;\">\n",
       "      <th></th>\n",
       "      <th>gross</th>\n",
       "    </tr>\n",
       "    <tr>\n",
       "      <th>star</th>\n",
       "      <th></th>\n",
       "    </tr>\n",
       "  </thead>\n",
       "  <tbody>\n",
       "    <tr>\n",
       "      <th>Donald Glover</th>\n",
       "      <td>1.670728e+09</td>\n",
       "    </tr>\n",
       "    <tr>\n",
       "      <th>Daisy Ridley</th>\n",
       "      <td>1.120174e+09</td>\n",
       "    </tr>\n",
       "    <tr>\n",
       "      <th>Neel Sethi</th>\n",
       "      <td>9.665549e+08</td>\n",
       "    </tr>\n",
       "    <tr>\n",
       "      <th>Craig T. Nelson</th>\n",
       "      <td>9.381233e+08</td>\n",
       "    </tr>\n",
       "    <tr>\n",
       "      <th>Chris Pratt</th>\n",
       "      <td>8.797427e+08</td>\n",
       "    </tr>\n",
       "  </tbody>\n",
       "</table>\n",
       "</div>"
      ],
      "text/plain": [
       "                        gross\n",
       "star                         \n",
       "Donald Glover    1.670728e+09\n",
       "Daisy Ridley     1.120174e+09\n",
       "Neel Sethi       9.665549e+08\n",
       "Craig T. Nelson  9.381233e+08\n",
       "Chris Pratt      8.797427e+08"
      ]
     },
     "execution_count": 48,
     "metadata": {},
     "output_type": "execute_result"
    }
   ],
   "source": [
    "mean_pairwise('star')"
   ]
  },
  {
   "cell_type": "code",
   "execution_count": 49,
   "id": "c18aa2a3",
   "metadata": {},
   "outputs": [
    {
     "data": {
      "text/html": [
       "<div>\n",
       "<style scoped>\n",
       "    .dataframe tbody tr th:only-of-type {\n",
       "        vertical-align: middle;\n",
       "    }\n",
       "\n",
       "    .dataframe tbody tr th {\n",
       "        vertical-align: top;\n",
       "    }\n",
       "\n",
       "    .dataframe thead th {\n",
       "        text-align: right;\n",
       "    }\n",
       "</style>\n",
       "<table border=\"1\" class=\"dataframe\">\n",
       "  <thead>\n",
       "    <tr style=\"text-align: right;\">\n",
       "      <th></th>\n",
       "      <th>gross</th>\n",
       "    </tr>\n",
       "    <tr>\n",
       "      <th>company</th>\n",
       "      <th></th>\n",
       "    </tr>\n",
       "  </thead>\n",
       "  <tbody>\n",
       "    <tr>\n",
       "      <th>Marvel Studios</th>\n",
       "      <td>1.255466e+09</td>\n",
       "    </tr>\n",
       "    <tr>\n",
       "      <th>Illumination Entertainment</th>\n",
       "      <td>1.097122e+09</td>\n",
       "    </tr>\n",
       "    <tr>\n",
       "      <th>Fairview Entertainment</th>\n",
       "      <td>9.665549e+08</td>\n",
       "    </tr>\n",
       "    <tr>\n",
       "      <th>B24</th>\n",
       "      <td>8.806815e+08</td>\n",
       "    </tr>\n",
       "    <tr>\n",
       "      <th>Avi Arad Productions</th>\n",
       "      <td>8.560852e+08</td>\n",
       "    </tr>\n",
       "  </tbody>\n",
       "</table>\n",
       "</div>"
      ],
      "text/plain": [
       "                                   gross\n",
       "company                                 \n",
       "Marvel Studios              1.255466e+09\n",
       "Illumination Entertainment  1.097122e+09\n",
       "Fairview Entertainment      9.665549e+08\n",
       "B24                         8.806815e+08\n",
       "Avi Arad Productions        8.560852e+08"
      ]
     },
     "execution_count": 49,
     "metadata": {},
     "output_type": "execute_result"
    }
   ],
   "source": [
    "mean_pairwise('company')"
   ]
  },
  {
   "cell_type": "code",
   "execution_count": 50,
   "id": "36d7b7bf",
   "metadata": {},
   "outputs": [
    {
     "data": {
      "text/html": [
       "<div>\n",
       "<style scoped>\n",
       "    .dataframe tbody tr th:only-of-type {\n",
       "        vertical-align: middle;\n",
       "    }\n",
       "\n",
       "    .dataframe tbody tr th {\n",
       "        vertical-align: top;\n",
       "    }\n",
       "\n",
       "    .dataframe thead th {\n",
       "        text-align: right;\n",
       "    }\n",
       "</style>\n",
       "<table border=\"1\" class=\"dataframe\">\n",
       "  <thead>\n",
       "    <tr style=\"text-align: right;\">\n",
       "      <th></th>\n",
       "      <th>gross</th>\n",
       "    </tr>\n",
       "    <tr>\n",
       "      <th>Years</th>\n",
       "      <th></th>\n",
       "    </tr>\n",
       "  </thead>\n",
       "  <tbody>\n",
       "    <tr>\n",
       "      <th>2020</th>\n",
       "      <td>1.668662e+08</td>\n",
       "    </tr>\n",
       "    <tr>\n",
       "      <th>2017</th>\n",
       "      <td>1.475836e+08</td>\n",
       "    </tr>\n",
       "    <tr>\n",
       "      <th>2016</th>\n",
       "      <td>1.410022e+08</td>\n",
       "    </tr>\n",
       "    <tr>\n",
       "      <th>2018</th>\n",
       "      <td>1.407065e+08</td>\n",
       "    </tr>\n",
       "    <tr>\n",
       "      <th>2019</th>\n",
       "      <td>1.402180e+08</td>\n",
       "    </tr>\n",
       "  </tbody>\n",
       "</table>\n",
       "</div>"
      ],
      "text/plain": [
       "              gross\n",
       "Years              \n",
       "2020   1.668662e+08\n",
       "2017   1.475836e+08\n",
       "2016   1.410022e+08\n",
       "2018   1.407065e+08\n",
       "2019   1.402180e+08"
      ]
     },
     "execution_count": 50,
     "metadata": {},
     "output_type": "execute_result"
    }
   ],
   "source": [
    "mean_pairwise('Years')"
   ]
  },
  {
   "cell_type": "code",
   "execution_count": null,
   "id": "85142bca",
   "metadata": {},
   "outputs": [],
   "source": []
  }
 ],
 "metadata": {
  "kernelspec": {
   "display_name": "Python 3 (ipykernel)",
   "language": "python",
   "name": "python3"
  },
  "language_info": {
   "codemirror_mode": {
    "name": "ipython",
    "version": 3
   },
   "file_extension": ".py",
   "mimetype": "text/x-python",
   "name": "python",
   "nbconvert_exporter": "python",
   "pygments_lexer": "ipython3",
   "version": "3.10.9"
  }
 },
 "nbformat": 4,
 "nbformat_minor": 5
}
